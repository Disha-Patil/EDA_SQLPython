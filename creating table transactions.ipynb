{
 "cells": [
  {
   "cell_type": "code",
   "execution_count": 1,
   "metadata": {},
   "outputs": [],
   "source": [
    "#Importing csv to read the csv file\n",
    "import csv"
   ]
  },
  {
   "cell_type": "code",
   "execution_count": 2,
   "metadata": {},
   "outputs": [],
   "source": [
    "#Reading the csv file\n",
    "with open('bank_transactions.csv') as f:\n",
    "    reader=csv.reader(f)\n",
    "    data=list(reader)"
   ]
  },
  {
   "cell_type": "code",
   "execution_count": 3,
   "metadata": {},
   "outputs": [
    {
     "data": {
      "text/plain": [
       "[['TransactionID',\n",
       "  'CustomerID',\n",
       "  'CustomerDOB',\n",
       "  'CustGender',\n",
       "  'CustLocation',\n",
       "  'CustAccountBalance',\n",
       "  'TransactionDate',\n",
       "  'TransactionTime',\n",
       "  'TransactionAmount (INR)'],\n",
       " ['T1',\n",
       "  'C5841053',\n",
       "  '10/1/94',\n",
       "  'F',\n",
       "  'JAMSHEDPUR',\n",
       "  '17819.05',\n",
       "  '2/8/16',\n",
       "  '143207',\n",
       "  '25'],\n",
       " ['T2',\n",
       "  'C2142763',\n",
       "  '4/4/57',\n",
       "  'M',\n",
       "  'JHAJJAR',\n",
       "  '2270.69',\n",
       "  '2/8/16',\n",
       "  '141858',\n",
       "  '27999'],\n",
       " ['T3',\n",
       "  'C4417068',\n",
       "  '26/11/96',\n",
       "  'F',\n",
       "  'MUMBAI',\n",
       "  '17874.44',\n",
       "  '2/8/16',\n",
       "  '142712',\n",
       "  '459'],\n",
       " ['T4',\n",
       "  'C5342380',\n",
       "  '14/9/73',\n",
       "  'F',\n",
       "  'MUMBAI',\n",
       "  '866503.21',\n",
       "  '2/8/16',\n",
       "  '142714',\n",
       "  '2060'],\n",
       " ['T5',\n",
       "  'C9031234',\n",
       "  '24/3/88',\n",
       "  'F',\n",
       "  'NAVI MUMBAI',\n",
       "  '6714.43',\n",
       "  '2/8/16',\n",
       "  '181156',\n",
       "  '1762.5'],\n",
       " ['T6',\n",
       "  'C1536588',\n",
       "  '8/10/72',\n",
       "  'F',\n",
       "  'ITANAGAR',\n",
       "  '53609.2',\n",
       "  '2/8/16',\n",
       "  '173940',\n",
       "  '676'],\n",
       " ['T7',\n",
       "  'C7126560',\n",
       "  '26/1/92',\n",
       "  'F',\n",
       "  'MUMBAI',\n",
       "  '973.46',\n",
       "  '2/8/16',\n",
       "  '173806',\n",
       "  '566'],\n",
       " ['T8',\n",
       "  'C1220223',\n",
       "  '27/1/82',\n",
       "  'M',\n",
       "  'MUMBAI',\n",
       "  '95075.54',\n",
       "  '2/8/16',\n",
       "  '170537',\n",
       "  '148'],\n",
       " ['T9',\n",
       "  'C8536061',\n",
       "  '19/4/88',\n",
       "  'F',\n",
       "  'GURGAON',\n",
       "  '14906.96',\n",
       "  '2/8/16',\n",
       "  '192825',\n",
       "  '833']]"
      ]
     },
     "execution_count": 3,
     "metadata": {},
     "output_type": "execute_result"
    }
   ],
   "source": [
    "#Presenting data in list form\n",
    "data[slice(10)]"
   ]
  },
  {
   "cell_type": "code",
   "execution_count": 4,
   "metadata": {},
   "outputs": [],
   "source": [
    "#Importing SQLite3 and making connection between a variable conn and database to use it forward\n",
    "import sqlite3\n",
    "conn=sqlite3.connect('transactiondata.db')"
   ]
  },
  {
   "cell_type": "code",
   "execution_count": 5,
   "metadata": {},
   "outputs": [],
   "source": [
    "#Assigning a function to a variaable to use it forward\n",
    "cur=conn.cursor()"
   ]
  },
  {
   "cell_type": "code",
   "execution_count": 6,
   "metadata": {},
   "outputs": [
    {
     "data": {
      "text/plain": [
       "<sqlite3.Cursor at 0x7fa344d6c880>"
      ]
     },
     "execution_count": 6,
     "metadata": {},
     "output_type": "execute_result"
    }
   ],
   "source": [
    "#Creating a table\n",
    "cur.execute(\"CREATE TABLE Transactions(TransactionID, CustomerID, CustomerDOB, CustGender, CustLocation, CustAccountBalance, TransactionDate, TransactionTime, TransactionAmount)\")"
   ]
  },
  {
   "cell_type": "code",
   "execution_count": 7,
   "metadata": {},
   "outputs": [],
   "source": [
    "#Entering the data into the table\n",
    "for row in data:\n",
    "    cur.execute(\"INSERT INTO Transactions(TransactionID, CustomerID, CustomerDOB, CustGender, CustLocation, CustAccountBalance, TransactionDate, TransactionTime, TransactionAmount) VALUES(?, ?, ?, ?, ?, ?, ?, ?, ?)\", row)"
   ]
  },
  {
   "cell_type": "code",
   "execution_count": null,
   "metadata": {},
   "outputs": [],
   "source": []
  },
  {
   "cell_type": "code",
   "execution_count": null,
   "metadata": {},
   "outputs": [],
   "source": []
  },
  {
   "cell_type": "code",
   "execution_count": null,
   "metadata": {},
   "outputs": [],
   "source": []
  },
  {
   "cell_type": "code",
   "execution_count": null,
   "metadata": {},
   "outputs": [],
   "source": []
  }
 ],
 "metadata": {
  "kernelspec": {
   "display_name": "Python 3",
   "language": "python",
   "name": "python3"
  },
  "language_info": {
   "codemirror_mode": {
    "name": "ipython",
    "version": 3
   },
   "file_extension": ".py",
   "mimetype": "text/x-python",
   "name": "python",
   "nbconvert_exporter": "python",
   "pygments_lexer": "ipython3",
   "version": "3.7.6"
  }
 },
 "nbformat": 4,
 "nbformat_minor": 5
}
