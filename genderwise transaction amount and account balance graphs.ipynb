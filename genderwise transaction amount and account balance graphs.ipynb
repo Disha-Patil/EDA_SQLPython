{
 "cells": [
  {
   "cell_type": "code",
   "execution_count": 1,
   "id": "7326aefa",
   "metadata": {},
   "outputs": [],
   "source": [
    "#importing pandas\n",
    "import pandas as pd"
   ]
  },
  {
   "cell_type": "code",
   "execution_count": 3,
   "id": "bd8250da",
   "metadata": {},
   "outputs": [],
   "source": [
    "#importing matplotlib\n",
    "import matplotlib.pyplot as plt"
   ]
  },
  {
   "cell_type": "code",
   "execution_count": 4,
   "id": "b2c455d5",
   "metadata": {},
   "outputs": [],
   "source": [
    "#reading bank transactions csv file\n",
    "df=pd.read_csv('bank_transactions.csv')"
   ]
  },
  {
   "cell_type": "code",
   "execution_count": 5,
   "id": "bdc91eb2",
   "metadata": {},
   "outputs": [],
   "source": [
    "#renaming column for convenience\n",
    "df=df.rename(columns={'TransactionAmount (INR)':'TransactionAmount'})"
   ]
  },
  {
   "cell_type": "code",
   "execution_count": 6,
   "id": "6c0563cd",
   "metadata": {},
   "outputs": [
    {
     "data": {
      "text/html": [
       "<div>\n",
       "<style scoped>\n",
       "    .dataframe tbody tr th:only-of-type {\n",
       "        vertical-align: middle;\n",
       "    }\n",
       "\n",
       "    .dataframe tbody tr th {\n",
       "        vertical-align: top;\n",
       "    }\n",
       "\n",
       "    .dataframe thead th {\n",
       "        text-align: right;\n",
       "    }\n",
       "</style>\n",
       "<table border=\"1\" class=\"dataframe\">\n",
       "  <thead>\n",
       "    <tr style=\"text-align: right;\">\n",
       "      <th></th>\n",
       "      <th>TransactionID</th>\n",
       "      <th>CustomerID</th>\n",
       "      <th>CustomerDOB</th>\n",
       "      <th>CustGender</th>\n",
       "      <th>CustLocation</th>\n",
       "      <th>CustAccountBalance</th>\n",
       "      <th>TransactionDate</th>\n",
       "      <th>TransactionTime</th>\n",
       "      <th>TransactionAmount</th>\n",
       "    </tr>\n",
       "  </thead>\n",
       "  <tbody>\n",
       "    <tr>\n",
       "      <th>0</th>\n",
       "      <td>T1</td>\n",
       "      <td>C5841053</td>\n",
       "      <td>10-01-1994</td>\n",
       "      <td>F</td>\n",
       "      <td>JAMSHEDPUR</td>\n",
       "      <td>17819.05</td>\n",
       "      <td>02-08-2016</td>\n",
       "      <td>143207</td>\n",
       "      <td>25.0</td>\n",
       "    </tr>\n",
       "    <tr>\n",
       "      <th>1</th>\n",
       "      <td>T2</td>\n",
       "      <td>C2142763</td>\n",
       "      <td>04-04-1957</td>\n",
       "      <td>M</td>\n",
       "      <td>JHAJJAR</td>\n",
       "      <td>2270.69</td>\n",
       "      <td>02-08-2016</td>\n",
       "      <td>141858</td>\n",
       "      <td>27999.0</td>\n",
       "    </tr>\n",
       "    <tr>\n",
       "      <th>2</th>\n",
       "      <td>T3</td>\n",
       "      <td>C4417068</td>\n",
       "      <td>26-11-1996</td>\n",
       "      <td>F</td>\n",
       "      <td>MUMBAI</td>\n",
       "      <td>17874.44</td>\n",
       "      <td>02-08-2016</td>\n",
       "      <td>142712</td>\n",
       "      <td>459.0</td>\n",
       "    </tr>\n",
       "    <tr>\n",
       "      <th>3</th>\n",
       "      <td>T4</td>\n",
       "      <td>C5342380</td>\n",
       "      <td>14-09-1973</td>\n",
       "      <td>F</td>\n",
       "      <td>MUMBAI</td>\n",
       "      <td>866503.21</td>\n",
       "      <td>02-08-2016</td>\n",
       "      <td>142714</td>\n",
       "      <td>2060.0</td>\n",
       "    </tr>\n",
       "    <tr>\n",
       "      <th>4</th>\n",
       "      <td>T5</td>\n",
       "      <td>C9031234</td>\n",
       "      <td>24-03-1988</td>\n",
       "      <td>F</td>\n",
       "      <td>NAVI MUMBAI</td>\n",
       "      <td>6714.43</td>\n",
       "      <td>02-08-2016</td>\n",
       "      <td>181156</td>\n",
       "      <td>1762.5</td>\n",
       "    </tr>\n",
       "    <tr>\n",
       "      <th>...</th>\n",
       "      <td>...</td>\n",
       "      <td>...</td>\n",
       "      <td>...</td>\n",
       "      <td>...</td>\n",
       "      <td>...</td>\n",
       "      <td>...</td>\n",
       "      <td>...</td>\n",
       "      <td>...</td>\n",
       "      <td>...</td>\n",
       "    </tr>\n",
       "    <tr>\n",
       "      <th>1048562</th>\n",
       "      <td>T1048563</td>\n",
       "      <td>C8020229</td>\n",
       "      <td>08-04-1990</td>\n",
       "      <td>M</td>\n",
       "      <td>NEW DELHI</td>\n",
       "      <td>7635.19</td>\n",
       "      <td>18-09-2016</td>\n",
       "      <td>184824</td>\n",
       "      <td>799.0</td>\n",
       "    </tr>\n",
       "    <tr>\n",
       "      <th>1048563</th>\n",
       "      <td>T1048564</td>\n",
       "      <td>C6459278</td>\n",
       "      <td>20-02-1992</td>\n",
       "      <td>M</td>\n",
       "      <td>NASHIK</td>\n",
       "      <td>27311.42</td>\n",
       "      <td>18-09-2016</td>\n",
       "      <td>183734</td>\n",
       "      <td>460.0</td>\n",
       "    </tr>\n",
       "    <tr>\n",
       "      <th>1048564</th>\n",
       "      <td>T1048565</td>\n",
       "      <td>C6412354</td>\n",
       "      <td>18-05-1989</td>\n",
       "      <td>M</td>\n",
       "      <td>HYDERABAD</td>\n",
       "      <td>221757.06</td>\n",
       "      <td>18-09-2016</td>\n",
       "      <td>183313</td>\n",
       "      <td>770.0</td>\n",
       "    </tr>\n",
       "    <tr>\n",
       "      <th>1048565</th>\n",
       "      <td>T1048566</td>\n",
       "      <td>C6420483</td>\n",
       "      <td>30-08-1978</td>\n",
       "      <td>M</td>\n",
       "      <td>VISAKHAPATNAM</td>\n",
       "      <td>10117.87</td>\n",
       "      <td>18-09-2016</td>\n",
       "      <td>184706</td>\n",
       "      <td>1000.0</td>\n",
       "    </tr>\n",
       "    <tr>\n",
       "      <th>1048566</th>\n",
       "      <td>T1048567</td>\n",
       "      <td>C8337524</td>\n",
       "      <td>05-03-1984</td>\n",
       "      <td>M</td>\n",
       "      <td>PUNE</td>\n",
       "      <td>75734.42</td>\n",
       "      <td>18-09-2016</td>\n",
       "      <td>181222</td>\n",
       "      <td>1166.0</td>\n",
       "    </tr>\n",
       "  </tbody>\n",
       "</table>\n",
       "<p>1048567 rows × 9 columns</p>\n",
       "</div>"
      ],
      "text/plain": [
       "        TransactionID CustomerID CustomerDOB CustGender   CustLocation  \\\n",
       "0                  T1   C5841053  10-01-1994          F     JAMSHEDPUR   \n",
       "1                  T2   C2142763  04-04-1957          M        JHAJJAR   \n",
       "2                  T3   C4417068  26-11-1996          F         MUMBAI   \n",
       "3                  T4   C5342380  14-09-1973          F         MUMBAI   \n",
       "4                  T5   C9031234  24-03-1988          F    NAVI MUMBAI   \n",
       "...               ...        ...         ...        ...            ...   \n",
       "1048562      T1048563   C8020229  08-04-1990          M      NEW DELHI   \n",
       "1048563      T1048564   C6459278  20-02-1992          M         NASHIK   \n",
       "1048564      T1048565   C6412354  18-05-1989          M      HYDERABAD   \n",
       "1048565      T1048566   C6420483  30-08-1978          M  VISAKHAPATNAM   \n",
       "1048566      T1048567   C8337524  05-03-1984          M           PUNE   \n",
       "\n",
       "         CustAccountBalance TransactionDate  TransactionTime  \\\n",
       "0                  17819.05      02-08-2016           143207   \n",
       "1                   2270.69      02-08-2016           141858   \n",
       "2                  17874.44      02-08-2016           142712   \n",
       "3                 866503.21      02-08-2016           142714   \n",
       "4                   6714.43      02-08-2016           181156   \n",
       "...                     ...             ...              ...   \n",
       "1048562             7635.19      18-09-2016           184824   \n",
       "1048563            27311.42      18-09-2016           183734   \n",
       "1048564           221757.06      18-09-2016           183313   \n",
       "1048565            10117.87      18-09-2016           184706   \n",
       "1048566            75734.42      18-09-2016           181222   \n",
       "\n",
       "         TransactionAmount  \n",
       "0                     25.0  \n",
       "1                  27999.0  \n",
       "2                    459.0  \n",
       "3                   2060.0  \n",
       "4                   1762.5  \n",
       "...                    ...  \n",
       "1048562              799.0  \n",
       "1048563              460.0  \n",
       "1048564              770.0  \n",
       "1048565             1000.0  \n",
       "1048566             1166.0  \n",
       "\n",
       "[1048567 rows x 9 columns]"
      ]
     },
     "execution_count": 6,
     "metadata": {},
     "output_type": "execute_result"
    }
   ],
   "source": [
    "#representing changed table\n",
    "df"
   ]
  },
  {
   "cell_type": "code",
   "execution_count": 7,
   "id": "29587c48",
   "metadata": {},
   "outputs": [],
   "source": [
    "#declaring empty list\n",
    "q=[]"
   ]
  },
  {
   "cell_type": "code",
   "execution_count": 8,
   "id": "c10509cc",
   "metadata": {},
   "outputs": [],
   "source": [
    "#filling the list with all the genders of customers\n",
    "for i in df.CustGender:\n",
    "    q.append(i)"
   ]
  },
  {
   "cell_type": "code",
   "execution_count": 9,
   "id": "f95a016c",
   "metadata": {},
   "outputs": [],
   "source": [
    "#extracting unique elements of the list\n",
    "q=list(set(q))"
   ]
  },
  {
   "cell_type": "code",
   "execution_count": 10,
   "id": "578bc5f4",
   "metadata": {},
   "outputs": [
    {
     "data": {
      "text/plain": [
       "[nan, 'M', 'F', 'T']"
      ]
     },
     "execution_count": 10,
     "metadata": {},
     "output_type": "execute_result"
    }
   ],
   "source": [
    "#calling the list\n",
    "q"
   ]
  },
  {
   "cell_type": "code",
   "execution_count": 20,
   "id": "38ecec5f",
   "metadata": {},
   "outputs": [],
   "source": [
    "#converting all the elements of list into strings\n",
    "r=[]\n",
    "for i in q:\n",
    "    r.append(str(i))"
   ]
  },
  {
   "cell_type": "code",
   "execution_count": 11,
   "id": "c106468e",
   "metadata": {},
   "outputs": [],
   "source": [
    "#declaring empty list and adding zeros in it whose numbers are equal to the number of unique elements of the previous list \n",
    "w=[]\n",
    "for i in q:\n",
    "    w.append(0)"
   ]
  },
  {
   "cell_type": "code",
   "execution_count": 15,
   "id": "677fb37b",
   "metadata": {},
   "outputs": [],
   "source": [
    "#finding out the total customer account balance of each gender which belong to the 5 metropolitan cities(Mumbai, Delhi, Chennai, Kolkata and Ahmedabad)\n",
    "for i in range(0, len(df.CustLocation)):\n",
    "    e=str(df.CustLocation[i]).split()\n",
    "    for k in e:\n",
    "        if(str(k).upper()=='MUMBAI' or str(k).upper()=='AHMEDABAD' or str(k).upper()=='CHENNAI' or str(k).upper()=='DELHI' or str(k).upper()=='KOLKATA'):\n",
    "            for j in range(0, len(q)):\n",
    "                if(str(q[j]).upper()==str(df.CustGender[i]).upper()):\n",
    "                    if(str(df.CustAccountBalance[i]).upper()=='NAN'):\n",
    "                        w[j]=w[j]+0\n",
    "                    else:\n",
    "                        w[j]=w[j]+float(df.CustAccountBalance[i])                   "
   ]
  },
  {
   "cell_type": "code",
   "execution_count": 16,
   "id": "d78b91e7",
   "metadata": {},
   "outputs": [
    {
     "data": {
      "text/plain": [
       "[43094862.19000009, 59653586446.12186, 21851195933.651604, 100100.0]"
      ]
     },
     "execution_count": 16,
     "metadata": {},
     "output_type": "execute_result"
    }
   ],
   "source": [
    "#representing the customer account balance of each gender in the order of the previous list 'q'\n",
    "w"
   ]
  },
  {
   "cell_type": "code",
   "execution_count": 18,
   "id": "40088959",
   "metadata": {},
   "outputs": [
    {
     "data": {
      "image/png": "[encoded data removed]",
      "text/plain": [
       "<Figure size 432x288 with 1 Axes>"
      ]
     },
     "metadata": {},
     "output_type": "display_data"
    }
   ],
   "source": [
    "#plotting the pie chart\n",
    "plt.pie(w, labels=q)\n",
    "plt.show()"
   ]
  },
  {
   "cell_type": "code",
   "execution_count": 19,
   "id": "7c5b4aac",
   "metadata": {},
   "outputs": [
    {
     "data": {
      "text/plain": [
       "[<matplotlib.lines.Line2D at 0x29d85095190>]"
      ]
     },
     "execution_count": 19,
     "metadata": {},
     "output_type": "execute_result"
    },
    {
     "data": {
      "image/png": "[encoded data removed]",
      "text/plain": [
       "<Figure size 432x288 with 1 Axes>"
      ]
     },
     "metadata": {
      "needs_background": "light"
     },
     "output_type": "display_data"
    }
   ],
   "source": [
    "#plotting line graph\n",
    "plt.plot(q, w)"
   ]
  },
  {
   "cell_type": "code",
   "execution_count": 21,
   "id": "afa646a2",
   "metadata": {},
   "outputs": [
    {
     "data": {
      "text/plain": [
       "<BarContainer object of 4 artists>"
      ]
     },
     "execution_count": 21,
     "metadata": {},
     "output_type": "execute_result"
    },
    {
     "data": {
      "image/png": "[encoded data removed]",
      "text/plain": [
       "<Figure size 432x288 with 1 Axes>"
      ]
     },
     "metadata": {
      "needs_background": "light"
     },
     "output_type": "display_data"
    }
   ],
   "source": [
    "#plotting bar graph\n",
    "plt.bar(r, w)"
   ]
  },
  {
   "cell_type": "code",
   "execution_count": 22,
   "id": "e959a1d8",
   "metadata": {},
   "outputs": [],
   "source": [
    "#repeating the same process which was done above to find total transaction amount of each gender for the five metropolitan cities\n",
    "w=[]\n",
    "for i in q:\n",
    "    w.append(0)"
   ]
  },
  {
   "cell_type": "code",
   "execution_count": 23,
   "id": "10f64caf",
   "metadata": {},
   "outputs": [],
   "source": [
    "for i in range(0, len(df.CustLocation)):\n",
    "    e=str(df.CustLocation[i]).split()\n",
    "    for k in e:\n",
    "        if(str(k).upper()=='MUMBAI' or str(k).upper()=='AHMEDABAD' or str(k).upper()=='CHENNAI' or str(k).upper()=='DELHI' or str(k).upper()=='KOLKATA'):\n",
    "            for j in range(0, len(q)):\n",
    "                if(str(q[j]).upper()==str(df.CustGender[i]).upper()):\n",
    "                    if(str(df.TransactionAmount[i]).upper()=='NAN'):\n",
    "                        w[j]=w[j]+0\n",
    "                    else:\n",
    "                        w[j]=w[j]+float(df.TransactionAmount[i])"
   ]
  },
  {
   "cell_type": "code",
   "execution_count": 24,
   "id": "7dd8f850",
   "metadata": {},
   "outputs": [
    {
     "data": {
      "text/plain": [
       "[1609328.8300000005, 439635959.2300004, 189068252.41000092, 32500.0]"
      ]
     },
     "execution_count": 24,
     "metadata": {},
     "output_type": "execute_result"
    }
   ],
   "source": [
    "w"
   ]
  },
  {
   "cell_type": "code",
   "execution_count": 25,
   "id": "2dbe99ca",
   "metadata": {},
   "outputs": [
    {
     "data": {
      "image/png": "[encoded data removed]",
      "text/plain": [
       "<Figure size 432x288 with 1 Axes>"
      ]
     },
     "metadata": {},
     "output_type": "display_data"
    }
   ],
   "source": [
    "plt.pie(w, labels=q)\n",
    "plt.show()"
   ]
  },
  {
   "cell_type": "code",
   "execution_count": 26,
   "id": "3141bdeb",
   "metadata": {},
   "outputs": [
    {
     "data": {
      "text/plain": [
       "[<matplotlib.lines.Line2D at 0x29d851b66d0>]"
      ]
     },
     "execution_count": 26,
     "metadata": {},
     "output_type": "execute_result"
    },
    {
     "data": {
      "image/png": "[encoded data removed]",
      "text/plain": [
       "<Figure size 432x288 with 1 Axes>"
      ]
     },
     "metadata": {
      "needs_background": "light"
     },
     "output_type": "display_data"
    }
   ],
   "source": [
    "plt.plot(q, w)"
   ]
  },
  {
   "cell_type": "code",
   "execution_count": 27,
   "id": "1774be7b",
   "metadata": {},
   "outputs": [
    {
     "data": {
      "text/plain": [
       "<BarContainer object of 4 artists>"
      ]
     },
     "execution_count": 27,
     "metadata": {},
     "output_type": "execute_result"
    },
    {
     "data": {
      "image/png": "[encoded data removed]",
      "text/plain": [
       "<Figure size 432x288 with 1 Axes>"
      ]
     },
     "metadata": {
      "needs_background": "light"
     },
     "output_type": "display_data"
    }
   ],
   "source": [
    "plt.bar(r, w)"
   ]
  },
  {
   "cell_type": "code",
   "execution_count": 28,
   "id": "6dbf5a8f",
   "metadata": {},
   "outputs": [],
   "source": [
    "#repeating the process to find the total transaction amount of each gender of all locations\n",
    "w=[]\n",
    "for i in q:\n",
    "    w.append(0)"
   ]
  },
  {
   "cell_type": "code",
   "execution_count": 29,
   "id": "a6421fb0",
   "metadata": {},
   "outputs": [],
   "source": [
    "for i in range(0, len(df.CustGender)):\n",
    "    for j in range(0, len(q)):\n",
    "        if(str(q[j]).upper()==str(df.CustGender[i]).upper()):\n",
    "            if(str(df.TransactionAmount[i]).upper()=='NAN'):\n",
    "                w[j]=w[j]+0\n",
    "            else:\n",
    "                w[j]=w[j]+float(df.TransactionAmount[i])"
   ]
  },
  {
   "cell_type": "code",
   "execution_count": 30,
   "id": "7b579369",
   "metadata": {},
   "outputs": [
    {
     "data": {
      "text/plain": [
       "[2307442.02, 1181644838.11998, 466810951.4299866, 32500.0]"
      ]
     },
     "execution_count": 30,
     "metadata": {},
     "output_type": "execute_result"
    }
   ],
   "source": [
    "w"
   ]
  },
  {
   "cell_type": "code",
   "execution_count": 31,
   "id": "97d229d0",
   "metadata": {},
   "outputs": [
    {
     "data": {
      "image/png": "[encoded data removed]",
      "text/plain": [
       "<Figure size 432x288 with 1 Axes>"
      ]
     },
     "metadata": {},
     "output_type": "display_data"
    }
   ],
   "source": [
    "plt.pie(w, labels=q)\n",
    "plt.show()"
   ]
  },
  {
   "cell_type": "code",
   "execution_count": 32,
   "id": "2df8632f",
   "metadata": {},
   "outputs": [
    {
     "data": {
      "text/plain": [
       "[<matplotlib.lines.Line2D at 0x29d852be8e0>]"
      ]
     },
     "execution_count": 32,
     "metadata": {},
     "output_type": "execute_result"
    },
    {
     "data": {
      "image/png": "[encoded data removed]",
      "text/plain": [
       "<Figure size 432x288 with 1 Axes>"
      ]
     },
     "metadata": {
      "needs_background": "light"
     },
     "output_type": "display_data"
    }
   ],
   "source": [
    "plt.plot(q, w)"
   ]
  },
  {
   "cell_type": "code",
   "execution_count": 33,
   "id": "91d8c4dc",
   "metadata": {},
   "outputs": [
    {
     "data": {
      "text/plain": [
       "<BarContainer object of 4 artists>"
      ]
     },
     "execution_count": 33,
     "metadata": {},
     "output_type": "execute_result"
    },
    {
     "data": {
      "image/png": "[encoded data removed]",
      "text/plain": [
       "<Figure size 432x288 with 1 Axes>"
      ]
     },
     "metadata": {
      "needs_background": "light"
     },
     "output_type": "display_data"
    }
   ],
   "source": [
    "plt.bar(r, w)"
   ]
  },
  {
   "cell_type": "code",
   "execution_count": 39,
   "id": "72ea0513",
   "metadata": {},
   "outputs": [],
   "source": [
    "#repeating the process to find the total customer account balance of each gender of all locations\n",
    "w=[]\n",
    "for i in q:\n",
    "    w.append(0)"
   ]
  },
  {
   "cell_type": "code",
   "execution_count": 40,
   "id": "a509892e",
   "metadata": {},
   "outputs": [],
   "source": [
    "for i in range(0, len(df.CustGender)):\n",
    "    for j in range(0, len(q)):\n",
    "        if(str(q[j]).upper()==str(df.CustGender[i]).upper()):\n",
    "            if(str(df.CustAccountBalance[i]).upper()=='NAN'):\n",
    "                w[j]=w[j]+0\n",
    "            else:\n",
    "                w[j]=w[j]+float(df.CustAccountBalance[i])"
   ]
  },
  {
   "cell_type": "code",
   "execution_count": 41,
   "id": "8eadbddf",
   "metadata": {},
   "outputs": [
    {
     "data": {
      "text/plain": [
       "[31612788.250000093, 89819734670.0705, 30883555291.41993, 50050.0]"
      ]
     },
     "execution_count": 41,
     "metadata": {},
     "output_type": "execute_result"
    }
   ],
   "source": [
    "w"
   ]
  },
  {
   "cell_type": "code",
   "execution_count": 42,
   "id": "82ba6dc5",
   "metadata": {},
   "outputs": [
    {
     "data": {
      "image/png": "[encoded data removed]",
      "text/plain": [
       "<Figure size 432x288 with 1 Axes>"
      ]
     },
     "metadata": {},
     "output_type": "display_data"
    }
   ],
   "source": [
    "plt.pie(w, labels=q)\n",
    "plt.show()"
   ]
  },
  {
   "cell_type": "code",
   "execution_count": 43,
   "id": "146f14d8",
   "metadata": {},
   "outputs": [
    {
     "data": {
      "text/plain": [
       "[<matplotlib.lines.Line2D at 0x29d853e0130>]"
      ]
     },
     "execution_count": 43,
     "metadata": {},
     "output_type": "execute_result"
    },
    {
     "data": {
      "image/png": "[encoded data removed]",
      "text/plain": [
       "<Figure size 432x288 with 1 Axes>"
      ]
     },
     "metadata": {
      "needs_background": "light"
     },
     "output_type": "display_data"
    }
   ],
   "source": [
    "plt.plot(q, w)"
   ]
  },
  {
   "cell_type": "code",
   "execution_count": 44,
   "id": "b05ae58c",
   "metadata": {},
   "outputs": [
    {
     "data": {
      "text/plain": [
       "<BarContainer object of 4 artists>"
      ]
     },
     "execution_count": 44,
     "metadata": {},
     "output_type": "execute_result"
    },
    {
     "data": {
      "image/png": "[encoded data removed]",
      "text/plain": [
       "<Figure size 432x288 with 1 Axes>"
      ]
     },
     "metadata": {
      "needs_background": "light"
     },
     "output_type": "display_data"
    }
   ],
   "source": [
    "plt.bar(r, w)"
   ]
  },
  {
   "cell_type": "code",
   "execution_count": null,
   "id": "31ac90d3",
   "metadata": {},
   "outputs": [],
   "source": []
  }
 ],
 "metadata": {
  "kernelspec": {
   "display_name": "Python 3 (ipykernel)",
   "language": "python",
   "name": "python3"
  },
  "language_info": {
   "codemirror_mode": {
    "name": "ipython",
    "version": 3
   },
   "file_extension": ".py",
   "mimetype": "text/x-python",
   "name": "python",
   "nbconvert_exporter": "python",
   "pygments_lexer": "ipython3",
   "version": "3.9.12"
  }
 },
 "nbformat": 4,
 "nbformat_minor": 5
}
